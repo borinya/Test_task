{
 "cells": [
  {
   "cell_type": "code",
   "execution_count": 1,
   "metadata": {},
   "outputs": [],
   "source": [
    "import numpy as np\n",
    "from matplotlib import pyplot as plt\n",
    "import pandas as pd"
   ]
  },
  {
   "cell_type": "code",
   "execution_count": 3,
   "metadata": {
    "scrolled": true
   },
   "outputs": [],
   "source": [
    "import os\n",
    "import shutil\n",
    "import glob"
   ]
  },
  {
   "cell_type": "code",
   "execution_count": 4,
   "metadata": {},
   "outputs": [],
   "source": [
    "from __future__ import print_function, division\n",
    "import cv2 as cv2\n",
    "import os\n",
    "import torch\n",
    "import torchvision\n",
    "import pandas as pd\n",
    "from skimage import io, transform\n",
    "import numpy as np\n",
    "import matplotlib.pyplot as plt\n",
    "from typing import Tuple, List, Type, Dict, Any\n",
    "from torch.utils.data import Dataset, DataLoader\n",
    "from torchvision import transforms, utils, datasets\n",
    "import torchvision.models as models\n",
    "import torch.nn.functional as F\n",
    "import torch.nn as nn\n",
    "import torch.optim as optim\n",
    "from torch.autograd import Variable\n",
    "import time\n",
    "from tqdm import tqdm\n",
    "import os.path\n",
    "import os\n",
    "from threading import Thread\n",
    "from queue import Empty, Queue\n",
    "import threading\n",
    "from sklearn.utils import shuffle\n",
    "import random\n"
   ]
  },
  {
   "cell_type": "code",
   "execution_count": 5,
   "metadata": {},
   "outputs": [],
   "source": [
    "torch.manual_seed(378) # обнулили генератор рандома у торча\n",
    "np.random.seed(378)# обнулили генератор рандома у нампая\n",
    "torch.backends.cudnn.deterministic = True # ждем одинаковый результат у GPU и CPU Для одинаковых данны переданных торчу\n",
    "torch.backends.cudnn.benchmark = False # вроде аналогично строчке выше\n"
   ]
  },
  {
   "cell_type": "code",
   "execution_count": 6,
   "metadata": {},
   "outputs": [
    {
     "name": "stdout",
     "output_type": "stream",
     "text": [
      "cuda:0\n"
     ]
    }
   ],
   "source": [
    "torch.cuda.device_count()\n",
    "device1 = torch . device ( \"cuda:0\" if torch . cuda . is_available () else \"cpu\" )\n",
    "print(device1)\n",
    "device2 = torch.device('cpu')"
   ]
  },
  {
   "cell_type": "code",
   "execution_count": null,
   "metadata": {},
   "outputs": [],
   "source": []
  },
  {
   "cell_type": "code",
   "execution_count": null,
   "metadata": {},
   "outputs": [],
   "source": []
  },
  {
   "cell_type": "code",
   "execution_count": null,
   "metadata": {},
   "outputs": [],
   "source": []
  },
  {
   "cell_type": "code",
   "execution_count": null,
   "metadata": {},
   "outputs": [],
   "source": []
  },
  {
   "cell_type": "code",
   "execution_count": 42,
   "metadata": {},
   "outputs": [],
   "source": [
    "df = pd.DataFrame({\n",
    "        'Path': [],\n",
    "        'Class': [],\n",
    "        'Length':[]\n",
    "})\n",
    "df[\"Path\"] = df[\"Path\"].astype(\"string\")\n",
    "df[\"Class\"] = df[\"Class\"].astype(\"int\")\n",
    "df[\"Length\"] = df[\"Length\"].astype(\"int\")\n"
   ]
  },
  {
   "cell_type": "code",
   "execution_count": 33,
   "metadata": {},
   "outputs": [],
   "source": []
  },
  {
   "cell_type": "code",
   "execution_count": 34,
   "metadata": {},
   "outputs": [
    {
     "data": {
      "text/html": [
       "<div>\n",
       "<style scoped>\n",
       "    .dataframe tbody tr th:only-of-type {\n",
       "        vertical-align: middle;\n",
       "    }\n",
       "\n",
       "    .dataframe tbody tr th {\n",
       "        vertical-align: top;\n",
       "    }\n",
       "\n",
       "    .dataframe thead th {\n",
       "        text-align: right;\n",
       "    }\n",
       "</style>\n",
       "<table border=\"1\" class=\"dataframe\">\n",
       "  <thead>\n",
       "    <tr style=\"text-align: right;\">\n",
       "      <th></th>\n",
       "      <th>Path</th>\n",
       "      <th>Class</th>\n",
       "      <th>Length</th>\n",
       "    </tr>\n",
       "  </thead>\n",
       "  <tbody>\n",
       "  </tbody>\n",
       "</table>\n",
       "</div>"
      ],
      "text/plain": [
       "Empty DataFrame\n",
       "Columns: [Path, Class, Length]\n",
       "Index: []"
      ]
     },
     "execution_count": 34,
     "metadata": {},
     "output_type": "execute_result"
    }
   ],
   "source": [
    "df"
   ]
  },
  {
   "cell_type": "code",
   "execution_count": 35,
   "metadata": {},
   "outputs": [],
   "source": [
    "basic_train_clean_PATH = r\"C:\\Users\\boris\\Documents\\notebok\\госзнак\\train\\train\\clean\"\n",
    "basic_train_noisy_PATH = r\"C:\\Users\\boris\\Documents\\notebok\\госзнак\\train\\train\\noisy\""
   ]
  },
  {
   "cell_type": "code",
   "execution_count": 36,
   "metadata": {},
   "outputs": [],
   "source": [
    "for dirs,folder,files in os.walk(basic_train_clean_PATH):\n",
    "    #print('Выбранный каталог: ', dirs)\n",
    "    if files!= [] and folder== []:\n",
    "        #print('Вложенные папки: ', folder)\n",
    "        #print('Файлы в папке: ', files)\n",
    "        for file in files:    \n",
    "            #print('Полный путь к файлу: ', os.path.join(basic_tain_clean_PATH, dirs,file))     \n",
    "            df.loc[len(df.index)] = [os.path.join(basic_train_clean_PATH, dirs,file), 0,np.load(os.path.join(basic_train_clean_PATH, dirs,file)).shape[0]]"
   ]
  },
  {
   "cell_type": "code",
   "execution_count": 37,
   "metadata": {},
   "outputs": [],
   "source": [
    "for dirs,folder,files in os.walk(basic_train_noisy_PATH):\n",
    "    if files!= [] and folder== []:\n",
    "        for file in files:    \n",
    "            df.loc[len(df.index)] = [os.path.join(basic_train_noisy_PATH, dirs,file), 1,np.load(os.path.join(basic_train_noisy_PATH, dirs,file)).shape[0]]"
   ]
  },
  {
   "cell_type": "code",
   "execution_count": 38,
   "metadata": {},
   "outputs": [],
   "source": [
    "df.to_csv(r\"C:\\Users\\boris\\Documents\\notebok\\госзнак\\train_dataset.csv\")"
   ]
  },
  {
   "cell_type": "code",
   "execution_count": 39,
   "metadata": {},
   "outputs": [
    {
     "data": {
      "text/html": [
       "<div>\n",
       "<style scoped>\n",
       "    .dataframe tbody tr th:only-of-type {\n",
       "        vertical-align: middle;\n",
       "    }\n",
       "\n",
       "    .dataframe tbody tr th {\n",
       "        vertical-align: top;\n",
       "    }\n",
       "\n",
       "    .dataframe thead th {\n",
       "        text-align: right;\n",
       "    }\n",
       "</style>\n",
       "<table border=\"1\" class=\"dataframe\">\n",
       "  <thead>\n",
       "    <tr style=\"text-align: right;\">\n",
       "      <th></th>\n",
       "      <th>Path</th>\n",
       "      <th>Class</th>\n",
       "      <th>Length</th>\n",
       "    </tr>\n",
       "  </thead>\n",
       "  <tbody>\n",
       "    <tr>\n",
       "      <th>0</th>\n",
       "      <td>C:\\Users\\boris\\Documents\\notebok\\госзнак\\train...</td>\n",
       "      <td>0</td>\n",
       "      <td>966</td>\n",
       "    </tr>\n",
       "    <tr>\n",
       "      <th>1</th>\n",
       "      <td>C:\\Users\\boris\\Documents\\notebok\\госзнак\\train...</td>\n",
       "      <td>0</td>\n",
       "      <td>658</td>\n",
       "    </tr>\n",
       "    <tr>\n",
       "      <th>2</th>\n",
       "      <td>C:\\Users\\boris\\Documents\\notebok\\госзнак\\train...</td>\n",
       "      <td>0</td>\n",
       "      <td>414</td>\n",
       "    </tr>\n",
       "    <tr>\n",
       "      <th>3</th>\n",
       "      <td>C:\\Users\\boris\\Documents\\notebok\\госзнак\\train...</td>\n",
       "      <td>0</td>\n",
       "      <td>974</td>\n",
       "    </tr>\n",
       "    <tr>\n",
       "      <th>4</th>\n",
       "      <td>C:\\Users\\boris\\Documents\\notebok\\госзнак\\train...</td>\n",
       "      <td>0</td>\n",
       "      <td>872</td>\n",
       "    </tr>\n",
       "  </tbody>\n",
       "</table>\n",
       "</div>"
      ],
      "text/plain": [
       "                                                Path  Class  Length\n",
       "0  C:\\Users\\boris\\Documents\\notebok\\госзнак\\train...      0     966\n",
       "1  C:\\Users\\boris\\Documents\\notebok\\госзнак\\train...      0     658\n",
       "2  C:\\Users\\boris\\Documents\\notebok\\госзнак\\train...      0     414\n",
       "3  C:\\Users\\boris\\Documents\\notebok\\госзнак\\train...      0     974\n",
       "4  C:\\Users\\boris\\Documents\\notebok\\госзнак\\train...      0     872"
      ]
     },
     "execution_count": 39,
     "metadata": {},
     "output_type": "execute_result"
    }
   ],
   "source": [
    "df.head()"
   ]
  },
  {
   "cell_type": "code",
   "execution_count": 40,
   "metadata": {},
   "outputs": [
    {
     "data": {
      "text/plain": [
       "1374"
      ]
     },
     "execution_count": 40,
     "metadata": {},
     "output_type": "execute_result"
    }
   ],
   "source": [
    "maximum = df['Length'].max()\n",
    "maximum"
   ]
  },
  {
   "cell_type": "code",
   "execution_count": null,
   "metadata": {},
   "outputs": [],
   "source": []
  },
  {
   "cell_type": "code",
   "execution_count": null,
   "metadata": {},
   "outputs": [],
   "source": []
  },
  {
   "cell_type": "code",
   "execution_count": 43,
   "metadata": {},
   "outputs": [],
   "source": [
    "df = pd.DataFrame({\n",
    "        'Path': [],\n",
    "        'Class': [],\n",
    "        'Length':[]\n",
    "})\n",
    "df[\"Path\"] = df[\"Path\"].astype(\"string\")\n",
    "df[\"Class\"] = df[\"Class\"].astype(\"int\")\n",
    "df[\"Length\"] = df[\"Length\"].astype(\"int\")\n"
   ]
  },
  {
   "cell_type": "code",
   "execution_count": 44,
   "metadata": {},
   "outputs": [],
   "source": [
    "basic_val_clean_PATH = r\"C:\\Users\\boris\\Documents\\notebok\\госзнак\\val\\val\\clean\"\n",
    "basic_val_noisy_PATH = r\"C:\\Users\\boris\\Documents\\notebok\\госзнак\\val\\val\\noisy\""
   ]
  },
  {
   "cell_type": "code",
   "execution_count": 45,
   "metadata": {},
   "outputs": [],
   "source": [
    "for dirs,folder,files in os.walk(basic_val_clean_PATH):\n",
    "    #print('Выбранный каталог: ', dirs)\n",
    "    if files!= [] and folder== []:\n",
    "        #print('Вложенные папки: ', folder)\n",
    "        #print('Файлы в папке: ', files)\n",
    "        for file in files:    \n",
    "            #print('Полный путь к файлу: ', os.path.join(basic_tain_clean_PATH, dirs,file))     \n",
    "            df.loc[len(df.index)] = [os.path.join(basic_train_clean_PATH, dirs,file), 0,np.load(os.path.join(basic_train_clean_PATH, dirs,file)).shape[0]]"
   ]
  },
  {
   "cell_type": "code",
   "execution_count": 46,
   "metadata": {},
   "outputs": [],
   "source": [
    "for dirs,folder,files in os.walk(basic_val_noisy_PATH):\n",
    "    if files!= [] and folder== []:\n",
    "        for file in files:    \n",
    "            df.loc[len(df.index)] = [os.path.join(basic_train_noisy_PATH, dirs,file), 1,np.load(os.path.join(basic_train_noisy_PATH, dirs,file)).shape[0]]"
   ]
  },
  {
   "cell_type": "code",
   "execution_count": 47,
   "metadata": {},
   "outputs": [],
   "source": [
    "df.to_csv(r\"C:\\Users\\boris\\Documents\\notebok\\госзнак\\val_dataset.csv\")"
   ]
  },
  {
   "cell_type": "code",
   "execution_count": 48,
   "metadata": {},
   "outputs": [
    {
     "data": {
      "text/html": [
       "<div>\n",
       "<style scoped>\n",
       "    .dataframe tbody tr th:only-of-type {\n",
       "        vertical-align: middle;\n",
       "    }\n",
       "\n",
       "    .dataframe tbody tr th {\n",
       "        vertical-align: top;\n",
       "    }\n",
       "\n",
       "    .dataframe thead th {\n",
       "        text-align: right;\n",
       "    }\n",
       "</style>\n",
       "<table border=\"1\" class=\"dataframe\">\n",
       "  <thead>\n",
       "    <tr style=\"text-align: right;\">\n",
       "      <th></th>\n",
       "      <th>Path</th>\n",
       "      <th>Class</th>\n",
       "      <th>Length</th>\n",
       "    </tr>\n",
       "  </thead>\n",
       "  <tbody>\n",
       "    <tr>\n",
       "      <th>0</th>\n",
       "      <td>C:\\Users\\boris\\Documents\\notebok\\госзнак\\val\\v...</td>\n",
       "      <td>0</td>\n",
       "      <td>685</td>\n",
       "    </tr>\n",
       "    <tr>\n",
       "      <th>1</th>\n",
       "      <td>C:\\Users\\boris\\Documents\\notebok\\госзнак\\val\\v...</td>\n",
       "      <td>0</td>\n",
       "      <td>842</td>\n",
       "    </tr>\n",
       "    <tr>\n",
       "      <th>2</th>\n",
       "      <td>C:\\Users\\boris\\Documents\\notebok\\госзнак\\val\\v...</td>\n",
       "      <td>0</td>\n",
       "      <td>983</td>\n",
       "    </tr>\n",
       "    <tr>\n",
       "      <th>3</th>\n",
       "      <td>C:\\Users\\boris\\Documents\\notebok\\госзнак\\val\\v...</td>\n",
       "      <td>0</td>\n",
       "      <td>923</td>\n",
       "    </tr>\n",
       "    <tr>\n",
       "      <th>4</th>\n",
       "      <td>C:\\Users\\boris\\Documents\\notebok\\госзнак\\val\\v...</td>\n",
       "      <td>0</td>\n",
       "      <td>513</td>\n",
       "    </tr>\n",
       "  </tbody>\n",
       "</table>\n",
       "</div>"
      ],
      "text/plain": [
       "                                                Path  Class  Length\n",
       "0  C:\\Users\\boris\\Documents\\notebok\\госзнак\\val\\v...      0     685\n",
       "1  C:\\Users\\boris\\Documents\\notebok\\госзнак\\val\\v...      0     842\n",
       "2  C:\\Users\\boris\\Documents\\notebok\\госзнак\\val\\v...      0     983\n",
       "3  C:\\Users\\boris\\Documents\\notebok\\госзнак\\val\\v...      0     923\n",
       "4  C:\\Users\\boris\\Documents\\notebok\\госзнак\\val\\v...      0     513"
      ]
     },
     "execution_count": 48,
     "metadata": {},
     "output_type": "execute_result"
    }
   ],
   "source": [
    "df.head()"
   ]
  },
  {
   "cell_type": "code",
   "execution_count": 49,
   "metadata": {},
   "outputs": [
    {
     "data": {
      "text/plain": [
       "1226"
      ]
     },
     "execution_count": 49,
     "metadata": {},
     "output_type": "execute_result"
    }
   ],
   "source": [
    "maximum = df['Length'].max()\n",
    "maximum"
   ]
  },
  {
   "cell_type": "code",
   "execution_count": 53,
   "metadata": {},
   "outputs": [
    {
     "data": {
      "text/plain": [
       "'C:\\\\Users\\\\boris\\\\Documents\\\\notebok\\\\госзнак\\\\val\\\\val\\\\clean\\\\1084\\\\1084_139230_1084-139230-0002.npy'"
      ]
     },
     "execution_count": 53,
     "metadata": {},
     "output_type": "execute_result"
    }
   ],
   "source": [
    "df['Path'].loc[0]"
   ]
  },
  {
   "cell_type": "code",
   "execution_count": null,
   "metadata": {},
   "outputs": [],
   "source": []
  },
  {
   "cell_type": "code",
   "execution_count": 54,
   "metadata": {},
   "outputs": [
    {
     "data": {
      "text/plain": [
       "<matplotlib.image.AxesImage at 0x22163237220>"
      ]
     },
     "execution_count": 54,
     "metadata": {},
     "output_type": "execute_result"
    },
    {
     "data": {
      "image/png": "[encoded data removed]",
      "text/plain": [
       "<Figure size 432x288 with 1 Axes>"
      ]
     },
     "metadata": {
      "needs_background": "light"
     },
     "output_type": "display_data"
    }
   ],
   "source": [
    "plt.imshow(np.load(df['Path'].loc[0]).astype(float).T)"
   ]
  },
  {
   "cell_type": "code",
   "execution_count": null,
   "metadata": {},
   "outputs": [],
   "source": []
  }
 ],
 "metadata": {
  "kernelspec": {
   "display_name": "Python 3",
   "language": "python",
   "name": "python3"
  },
  "language_info": {
   "codemirror_mode": {
    "name": "ipython",
    "version": 3
   },
   "file_extension": ".py",
   "mimetype": "text/x-python",
   "name": "python",
   "nbconvert_exporter": "python",
   "pygments_lexer": "ipython3",
   "version": "3.8.3"
  }
 },
 "nbformat": 4,
 "nbformat_minor": 4
}
