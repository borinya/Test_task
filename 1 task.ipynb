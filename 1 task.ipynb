{
 "cells": [
  {
   "cell_type": "code",
   "execution_count": 164,
   "metadata": {},
   "outputs": [],
   "source": [
    "from array import *\n"
   ]
  },
  {
   "cell_type": "code",
   "execution_count": 185,
   "metadata": {},
   "outputs": [],
   "source": [
    "def multiplicate(A:array):\n",
    "    multiplication_total = 1\n",
    "    for i in range(len(A)):\n",
    "        if A[i] != 0:\n",
    "            multiplication_total = multiplication_total*A[i]\n",
    "            \n",
    "    B = array(A.typecode,[] ) # новый массив для вывода \n",
    "    for j in range(len(A)):\n",
    "        if A[j] != 0:\n",
    "            B.append(multiplication_total//A[j]) \n",
    "        else:\n",
    "            B.append(99999999)\n",
    "            \n",
    "    return B"
   ]
  },
  {
   "cell_type": "code",
   "execution_count": 186,
   "metadata": {},
   "outputs": [
    {
     "data": {
      "text/plain": [
       "array('f', [0.0, 1.0, 2.0, 3.0, 4.0, 0.0])"
      ]
     },
     "execution_count": 186,
     "metadata": {},
     "output_type": "execute_result"
    }
   ],
   "source": [
    "a = array( \"f\" ,[0, 1, 2, 3, 4, 0])\n",
    "a"
   ]
  },
  {
   "cell_type": "code",
   "execution_count": 187,
   "metadata": {},
   "outputs": [
    {
     "name": "stdout",
     "output_type": "stream",
     "text": [
      "array('f', [100000000.0, 24.0, 12.0, 8.0, 6.0, 100000000.0])\n"
     ]
    }
   ],
   "source": [
    "print(multiplicate(a))"
   ]
  },
  {
   "cell_type": "markdown",
   "metadata": {},
   "source": [
    "# два цикла, затраты по времени О($n^{2}$)\n",
    "# по памяти затраты так же О($n^{2}$) поскольку храним входной и выходной массив(обсуждаемо)\n",
    "# 0 заменяем как большое число"
   ]
  },
  {
   "cell_type": "code",
   "execution_count": null,
   "metadata": {},
   "outputs": [],
   "source": []
  }
 ],
 "metadata": {
  "kernelspec": {
   "display_name": "Python 3",
   "language": "python",
   "name": "python3"
  },
  "language_info": {
   "codemirror_mode": {
    "name": "ipython",
    "version": 3
   },
   "file_extension": ".py",
   "mimetype": "text/x-python",
   "name": "python",
   "nbconvert_exporter": "python",
   "pygments_lexer": "ipython3",
   "version": "3.8.3"
  }
 },
 "nbformat": 4,
 "nbformat_minor": 4
}
